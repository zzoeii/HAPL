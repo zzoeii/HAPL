{
  "nbformat": 4,
  "nbformat_minor": 0,
  "metadata": {
    "colab": {
      "provenance": []
    },
    "kernelspec": {
      "name": "python3",
      "display_name": "Python 3"
    },
    "language_info": {
      "name": "python"
    }
  },
  "cells": [
    {
      "cell_type": "code",
      "execution_count": 7,
      "metadata": {
        "colab": {
          "base_uri": "https://localhost:8080/"
        },
        "id": "W2nS_3HkK1q2",
        "outputId": "a9e5a149-6230-4ae0-a3f2-8688078244cb"
      },
      "outputs": [
        {
          "output_type": "stream",
          "name": "stdout",
          "text": [
            "A\n",
            "['k', 'G', 'H']\n"
          ]
        }
      ],
      "source": [
        "a='C,B,A'\n",
        "b=['F','G','H']\n",
        "\n",
        "a=a.split(',')\n",
        "c=a+b\n",
        "c[0]='k'\n",
        "\n",
        "print(c[2])\n",
        "\n",
        "del c[1:4]\n",
        "\n",
        "print(c)"
      ]
    },
    {
      "cell_type": "code",
      "source": [
        "a=input('請輸入一個八位數字')\n",
        "print(a[4])\n"
      ],
      "metadata": {
        "colab": {
          "base_uri": "https://localhost:8080/"
        },
        "id": "wq6M2ho4RjzJ",
        "outputId": "2bccda6e-f239-4bb4-d077-29138d7cf18c"
      },
      "execution_count": 8,
      "outputs": [
        {
          "output_type": "stream",
          "name": "stdout",
          "text": [
            "請輸入一個八位數字12345678\n",
            "5\n"
          ]
        }
      ]
    },
    {
      "cell_type": "code",
      "source": [
        "a=\"my ID is B1206028\"\n",
        "a=a.split(\" \")\n",
        "print(len(a))\n",
        "print(len(a[3]))\n"
      ],
      "metadata": {
        "colab": {
          "base_uri": "https://localhost:8080/"
        },
        "id": "R1qt00kyR4Ev",
        "outputId": "bafb46c7-8be2-4f9a-ba6f-94956801a470"
      },
      "execution_count": 11,
      "outputs": [
        {
          "output_type": "stream",
          "name": "stdout",
          "text": [
            "4\n",
            "8\n"
          ]
        }
      ]
    },
    {
      "cell_type": "code",
      "source": [
        "a=[['I','\\'','m'],'a' 'student']\n",
        "print(a[0][2])"
      ],
      "metadata": {
        "colab": {
          "base_uri": "https://localhost:8080/"
        },
        "id": "XYSLm_-vSkA9",
        "outputId": "bb0c4480-5226-4861-84d7-6789405fbdaa"
      },
      "execution_count": 12,
      "outputs": [
        {
          "output_type": "stream",
          "name": "stdout",
          "text": [
            "m\n"
          ]
        }
      ]
    }
  ]
}