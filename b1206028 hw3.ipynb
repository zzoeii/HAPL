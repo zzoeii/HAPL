{
  "nbformat": 4,
  "nbformat_minor": 0,
  "metadata": {
    "colab": {
      "provenance": []
    },
    "kernelspec": {
      "name": "python3",
      "display_name": "Python 3"
    },
    "language_info": {
      "name": "python"
    }
  },
  "cells": [
    {
      "cell_type": "code",
      "execution_count": 1,
      "metadata": {
        "colab": {
          "base_uri": "https://localhost:8080/"
        },
        "id": "dPGoJ20QDnyk",
        "outputId": "be92657b-9c56-4405-9903-68e3584703a4"
      },
      "outputs": [
        {
          "output_type": "stream",
          "name": "stdout",
          "text": [
            "請輸入年份：2004\n",
            "2004 年是閏年\n"
          ]
        }
      ],
      "source": [
        "def is_leap_year(year):\n",
        "    if year < 1582:\n",
        "        # 使用第二種方法\n",
        "        if year % 4 == 0:\n",
        "            return True\n",
        "        else:\n",
        "            return False\n",
        "    else:\n",
        "        # 使用第一種方法\n",
        "        if (year % 4 == 0 and year % 100 != 0) or (year % 400 == 0):\n",
        "            return True\n",
        "        else:\n",
        "            return False\n",
        "\n",
        "def main():\n",
        "    year = int(input(\"請輸入年份：\"))\n",
        "    if is_leap_year(year):\n",
        "        print(year, \"年是閏年\")\n",
        "    else:\n",
        "        print(year, \"年是平年\")\n",
        "\n",
        "if __name__ == \"__main__\":\n",
        "    main()"
      ]
    }
  ]
}