{
  "nbformat": 4,
  "nbformat_minor": 0,
  "metadata": {
    "colab": {
      "provenance": []
    },
    "kernelspec": {
      "name": "python3",
      "display_name": "Python 3"
    },
    "language_info": {
      "name": "python"
    }
  },
  "cells": [
    {
      "cell_type": "code",
      "execution_count": 19,
      "metadata": {
        "colab": {
          "base_uri": "https://localhost:8080/"
        },
        "id": "miN8HVWXwYA0",
        "outputId": "e56b2614-d3fd-40a9-e307-2cb30d593347"
      },
      "outputs": [
        {
          "output_type": "stream",
          "name": "stdout",
          "text": [
            "{'名字': '賴宏偉', '性別': '男', '作業分數': [100, 100, 90], '學號': 'M1129020'}\n",
            "平均分數: 96.66666666666667\n"
          ]
        }
      ],
      "source": [
        "a= dict(名字='賴宏偉',性別='男',作業分數=[80,95,100,90])\n",
        "a['學號']='M1129020'\n",
        "a['作業分數']=[80,100,100,90]\n",
        "a['作業分數']=[100,100,90]\n",
        "print(a)\n",
        "總分= sum(a['作業分數'])\n",
        "平均= 總分 / len(a['作業分數'])\n",
        "print('平均分數:',平均)"
      ]
    }
  ]
}