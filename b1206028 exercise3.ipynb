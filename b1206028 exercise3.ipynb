{
  "nbformat": 4,
  "nbformat_minor": 0,
  "metadata": {
    "colab": {
      "provenance": []
    },
    "kernelspec": {
      "name": "python3",
      "display_name": "Python 3"
    },
    "language_info": {
      "name": "python"
    }
  },
  "cells": [
    {
      "cell_type": "code",
      "execution_count": null,
      "metadata": {
        "id": "p22EVgyYzYpa",
        "colab": {
          "base_uri": "https://localhost:8080/"
        },
        "outputId": "7da81c82-04b7-4352-dace-427e67bf6e96"
      },
      "outputs": [
        {
          "output_type": "stream",
          "name": "stdout",
          "text": [
            "請輸入身高(cm)160\n",
            "請輸入體重(kg)53\n",
            "BMI: 20.703124999999996\n",
            "體位:適中\n"
          ]
        }
      ],
      "source": [
        "a=float(input(\"請輸入身高(cm)\"))\n",
        "b=float(input(\"請輸入體重(kg)\"))\n",
        "c=a*0.01\n",
        "c*=c\n",
        "d=b/c\n",
        "print(\"BMI:\",d)\n",
        "\n",
        "if  d<18.5:\n",
        "   print('體位:過輕')\n",
        "elif 18.5<=d<24:\n",
        "   print(\"體位:適中\")\n",
        "elif 24<=d<27:\n",
        "   print('體位:過重')\n",
        "else:\n",
        "   print('體位:肥胖')"
      ]
    },
    {
      "cell_type": "code",
      "source": [
        "a=float(input(\"請輸入第一個數字\"))\n",
        "b=input(\"請輸入算符號\")\n",
        "c=float(input(\"請輸入第二個數字\"))\n",
        "if b==\"+\":\n",
        "  result=a+c\n",
        "elif b==\"-\":\n",
        "  result=a-c\n",
        "elif b==\"*\":\n",
        "  result=a*c\n",
        "elif b==\"/\":\n",
        "  result=a/b\n",
        "else:\n",
        "  print(\"輸入錯誤\")\n",
        "print(\"計算結果為:\"+str(result))\n",
        "\n"
      ],
      "metadata": {
        "colab": {
          "base_uri": "https://localhost:8080/",
          "height": 263
        },
        "id": "vJ-v6vRd6i96",
        "outputId": "b0361e0b-f0ef-4948-a177-1ced34de293c"
      },
      "execution_count": null,
      "outputs": [
        {
          "output_type": "stream",
          "name": "stdout",
          "text": [
            "請輸入第一個數字5\n",
            "請輸入算符號3\n",
            "請輸入第二個數字5\n",
            "輸入錯誤\n"
          ]
        },
        {
          "output_type": "error",
          "ename": "NameError",
          "evalue": "name 'result' is not defined",
          "traceback": [
            "\u001b[0;31m---------------------------------------------------------------------------\u001b[0m",
            "\u001b[0;31mNameError\u001b[0m                                 Traceback (most recent call last)",
            "\u001b[0;32m<ipython-input-15-045bdd502e28>\u001b[0m in \u001b[0;36m<cell line: 14>\u001b[0;34m()\u001b[0m\n\u001b[1;32m     12\u001b[0m \u001b[0;32melse\u001b[0m\u001b[0;34m:\u001b[0m\u001b[0;34m\u001b[0m\u001b[0;34m\u001b[0m\u001b[0m\n\u001b[1;32m     13\u001b[0m   \u001b[0mprint\u001b[0m\u001b[0;34m(\u001b[0m\u001b[0;34m\"輸入錯誤\"\u001b[0m\u001b[0;34m)\u001b[0m\u001b[0;34m\u001b[0m\u001b[0;34m\u001b[0m\u001b[0m\n\u001b[0;32m---> 14\u001b[0;31m \u001b[0mprint\u001b[0m\u001b[0;34m(\u001b[0m\u001b[0;34m\"計算結果為:\"\u001b[0m\u001b[0;34m+\u001b[0m\u001b[0mstr\u001b[0m\u001b[0;34m(\u001b[0m\u001b[0mresult\u001b[0m\u001b[0;34m)\u001b[0m\u001b[0;34m)\u001b[0m\u001b[0;34m\u001b[0m\u001b[0;34m\u001b[0m\u001b[0m\n\u001b[0m\u001b[1;32m     15\u001b[0m \u001b[0;34m\u001b[0m\u001b[0m\n",
            "\u001b[0;31mNameError\u001b[0m: name 'result' is not defined"
          ]
        }
      ]
    }
  ]
}