{
  "nbformat": 4,
  "nbformat_minor": 0,
  "metadata": {
    "colab": {
      "provenance": []
    },
    "kernelspec": {
      "name": "python3",
      "display_name": "Python 3"
    },
    "language_info": {
      "name": "python"
    }
  },
  "cells": [
    {
      "cell_type": "code",
      "source": [
        "def draw_christmas_tree(height):\n",
        "\n",
        "    for i in range(height):\n",
        "        print(\" \" * (height - i - 1) + \"x\" * (2 * i + 1))\n",
        "\n",
        "\n",
        "    trunk_width = 3\n",
        "    trunk_height = 5\n",
        "    trunk_start = height - trunk_height\n",
        "    trunk_indent = (height - trunk_width) // 2\n",
        "    for _ in range(trunk_height):\n",
        "        print(\"   \" * trunk_indent + \"x\" * trunk_width)\n",
        "\n",
        "\n",
        "tree_height = int(input(\"請輸入聖誕樹高度（至少7層）：\"))\n",
        "draw_christmas_tree(tree_height)"
      ],
      "metadata": {
        "colab": {
          "base_uri": "https://localhost:8080/"
        },
        "id": "KndoxN-cKClo",
        "outputId": "2077ac89-8e32-4410-d0c0-cfbe34911bb0"
      },
      "execution_count": 32,
      "outputs": [
        {
          "output_type": "stream",
          "name": "stdout",
          "text": [
            "請輸入聖誕樹高度（至少7層）：8\n",
            "       x\n",
            "      xxx\n",
            "     xxxxx\n",
            "    xxxxxxx\n",
            "   xxxxxxxxx\n",
            "  xxxxxxxxxxx\n",
            " xxxxxxxxxxxxx\n",
            "xxxxxxxxxxxxxxx\n",
            "      xxx\n",
            "      xxx\n",
            "      xxx\n",
            "      xxx\n",
            "      xxx\n"
          ]
        }
      ]
    },
    {
      "cell_type": "code",
      "source": [
        "def calculate_BMI(height, weight):\n",
        "    try:\n",
        "        height = float(height) / 100  # Convert height to meters\n",
        "        weight = float(weight)\n",
        "    except ValueError:\n",
        "        return \"輸入內容錯誤\"\n",
        "\n",
        "    if height <= 0 or weight <= 0:\n",
        "        return \"身高或體重不得小於等於零\"\n",
        "\n",
        "    bmi = weight / (height ** 2)\n",
        "    if bmi < 18.5:\n",
        "        return f\"您的BMI為{bmi:.2f}，體位：過輕\"\n",
        "    elif bmi < 24:\n",
        "        return f\"您的BMI為{bmi:.2f}，體位：正常\"\n",
        "    elif bmi < 27:\n",
        "        return f\"您的BMI為{bmi:.2f}，體位：過重\"\n",
        "    elif bmi < 30:\n",
        "        return f\"您的BMI為{bmi:.2f}，體位：輕度肥胖\"\n",
        "    elif bmi < 35:\n",
        "        return f\"您的BMI為{bmi:.2f}，體位：中度肥胖\"\n",
        "    else:\n",
        "        return f\"您的BMI為{bmi:.2f}，體位：重度肥胖\"\n",
        "\n",
        "height_input = input(\"請輸入身高（公分）：\")\n",
        "weight_input = input(\"請輸入體重（公斤）：\")\n",
        "\n",
        "result = calculate_BMI(height_input, weight_input)\n",
        "print(result)"
      ],
      "metadata": {
        "colab": {
          "base_uri": "https://localhost:8080/"
        },
        "id": "N_-J1Lq3Mj9o",
        "outputId": "291d07d8-2fd2-4cf4-c9fa-d20ab3c1b8d1"
      },
      "execution_count": 37,
      "outputs": [
        {
          "output_type": "stream",
          "name": "stdout",
          "text": [
            "請輸入身高（公分）：160\n",
            "請輸入體重（公斤）：l\n",
            "輸入內容錯誤\n"
          ]
        }
      ]
    }
  ]
}