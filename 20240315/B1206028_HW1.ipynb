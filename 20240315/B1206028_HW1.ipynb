{
  "nbformat": 4,
  "nbformat_minor": 0,
  "metadata": {
    "colab": {
      "provenance": []
    },
    "kernelspec": {
      "name": "python3",
      "display_name": "Python 3"
    },
    "language_info": {
      "name": "python"
    }
  },
  "cells": [
    {
      "cell_type": "code",
      "source": [
        "a=\"I'm a student\"\n",
        "print(a)"
      ],
      "metadata": {
        "colab": {
          "base_uri": "https://localhost:8080/"
        },
        "id": "Fki0hu2omkhq",
        "outputId": "46f471fb-75b2-47c0-aee4-1f120d6e86ae"
      },
      "execution_count": null,
      "outputs": [
        {
          "output_type": "stream",
          "name": "stdout",
          "text": [
            "I'm a student\n"
          ]
        }
      ]
    },
    {
      "cell_type": "code",
      "execution_count": 4,
      "metadata": {
        "colab": {
          "base_uri": "https://localhost:8080/"
        },
        "id": "AAMTjpC-i40T",
        "outputId": "1c25836d-2fea-4561-ce62-a67cd449e5df"
      },
      "outputs": [
        {
          "output_type": "stream",
          "name": "stdout",
          "text": [
            "請輸入A點座標:7 7\n",
            "請輸入B點座標:8 8\n",
            "兩點距離為: 1.4142135623730951\n"
          ]
        }
      ],
      "source": [
        "a,b=map(int,input(\"請輸入A點座標:\").split())\n",
        "c,d=map(int,input(\"請輸入B點座標:\").split())\n",
        "x=c-a\n",
        "y=d-b\n",
        "x*=x\n",
        "y*=y\n",
        "z=pow((x+y),0.5)\n",
        "print(\"兩點距離為:\",z)"
      ]
    },
    {
      "cell_type": "code",
      "source": [
        "a=float(input(\"請輸入身高(cm)\"))\n",
        "b=float(input(\"請輸入體重(kg)\"))\n",
        "c=a*0.01\n",
        "c*=c\n",
        "d=b/c\n",
        "print(d)"
      ],
      "metadata": {
        "colab": {
          "base_uri": "https://localhost:8080/"
        },
        "id": "jPrIsGItkR3S",
        "outputId": "ab5ce046-2769-4f6c-a4ab-12145137be02"
      },
      "execution_count": 5,
      "outputs": [
        {
          "output_type": "stream",
          "name": "stdout",
          "text": [
            "請輸入身高(cm)160\n",
            "請輸入體重(kg)52\n",
            "20.312499999999996\n"
          ]
        }
      ]
    }
  ]
}